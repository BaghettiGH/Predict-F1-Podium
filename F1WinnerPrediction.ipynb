{
 "cells": [
  {
   "cell_type": "markdown",
   "metadata": {},
   "source": [
    "# F1 Podium Prediction"
   ]
  },
  {
   "cell_type": "markdown",
   "metadata": {},
   "source": [
    "## Importing Libraries"
   ]
  },
  {
   "cell_type": "code",
   "execution_count": 2,
   "metadata": {},
   "outputs": [],
   "source": [
    "import numpy as np\n",
    "import pandas as pd\n",
    "import matplotlib.pyplot as plt\n",
    "import seaborn as sns\n",
    "from sklearn.model_selection import train_test_split\n",
    "from sklearn.linear_model import LogisticRegression\n",
    "from sklearn.metrics import accuracy_score,confusion_matrix,classification_report\n",
    "from sklearn.preprocessing import LabelEncoder"
   ]
  },
  {
   "cell_type": "markdown",
   "metadata": {},
   "source": [
    "## Initializing Dataset"
   ]
  },
  {
   "cell_type": "code",
   "execution_count": 56,
   "metadata": {},
   "outputs": [
    {
     "name": "stderr",
     "output_type": "stream",
     "text": [
      "C:\\Users\\Molina\\AppData\\Local\\Temp\\ipykernel_23440\\2880382200.py:2: DtypeWarning: Columns (30,31) have mixed types. Specify dtype option on import or set low_memory=False.\n",
      "  dfRaceResults = pd.read_csv(\"assets/f1db-races-race-results.csv\")\n"
     ]
    }
   ],
   "source": [
    "dfStartingPos = pd.read_csv(\"assets/f1db-races-starting-grid-positions.csv\")\n",
    "dfRaceResults = pd.read_csv(\"assets/f1db-races-race-results.csv\")\n",
    "dfDriver = pd.read_csv(\"assets/f1db-drivers.csv\")\n",
    "dfFp1 = pd.read_csv(\"assets/f1db-races-free-practice-1-results.csv\")\n",
    "dfFp2 = pd.read_csv(\"assets/f1db-races-free-practice-2-results.csv\")\n",
    "dfFp3 = pd.read_csv(\"assets/f1db-races-free-practice-3-results.csv\")\n",
    "dfRaces = pd.read_csv(\"assets/f1db-races.csv\")"
   ]
  },
  {
   "cell_type": "markdown",
   "metadata": {},
   "source": [
    "Dropping other columns for simplicity.  \n",
    "Columns for dfStartingPos:\n",
    "- positionDisplayOrder\n",
    "- driverId  \n",
    "\n",
    "Columns for dfRaceResults: \n",
    "- raceId \n",
    "- positionDisplayOrder  \n",
    "- driverId  \n",
    "\n",
    "Columns for dfFp1,dfFp2,dfFp3:  \n",
    "- positionDisplayOrder\n",
    "- driverId  \n",
    "\n",
    "Columns for dfDriver:  \n",
    "- id\n",
    "- name\n",
    "- totalPodiums\n",
    "- totalPolePositions\n",
    "\n",
    "Columns for dfRaces:\n",
    "- id\n",
    "- year"
   ]
  },
  {
   "cell_type": "code",
   "execution_count": 57,
   "metadata": {},
   "outputs": [],
   "source": [
    "col1 = ['raceId','positionDisplayOrder','driverId']\n",
    "dfStartingPos = dfStartingPos[col1]\n",
    "dfRaceResults = dfRaceResults[col1]\n",
    "dfFp1 = dfFp1[col1]\n",
    "dfFp2 = dfFp2[col1]\n",
    "dfFp3 = dfFp3[col1]\n",
    "dfDriver = dfDriver[['id','name','totalPodiums','totalPolePositions']]\n",
    "dfRaces = dfRaces[['id','year','grandPrixId']]"
   ]
  },
  {
   "cell_type": "code",
   "execution_count": 61,
   "metadata": {},
   "outputs": [],
   "source": [
    "dfStartingPos.rename(columns={\"positionDisplayOrder\":'startingPos'},inplace=True)\n",
    "dfRaceResults.rename(columns={\"positionDisplayOrder\":'finishPos'},inplace=True)\n",
    "dfFp1.rename(columns={\"positionDisplayOrder\":\"fp1Pos\"},inplace=True)\n",
    "dfFp2.rename(columns={\"positionDisplayOrder\":\"fp2Pos\"},inplace=True)\n",
    "dfFp3.rename(columns={\"positionDisplayOrder\":\"fp3Pos\"},inplace=True)\n",
    "dfDriver.rename(columns={\"id\":'driverId'},inplace=True)\n",
    "dfRaces.rename(columns={\"id\":\"raceId\"},inplace=True)"
   ]
  },
  {
   "cell_type": "code",
   "execution_count": 93,
   "metadata": {},
   "outputs": [
    {
     "name": "stdout",
     "output_type": "stream",
     "text": [
      "(25008, 3)\n",
      "(26771, 3)\n",
      "(15316, 3)\n",
      "(14979, 3)\n",
      "(8290, 3)\n",
      "(903, 4)\n",
      "(1125, 3)\n"
     ]
    }
   ],
   "source": [
    "print(dfStartingPos.shape)\n",
    "print(dfRaceResults.shape)\n",
    "print(dfFp1.shape)\n",
    "print(dfFp2.shape)\n",
    "print(dfFp3.shape)\n",
    "print(dfDriver.shape)\n",
    "print(dfRaces.shape)"
   ]
  },
  {
   "cell_type": "code",
   "execution_count": 104,
   "metadata": {},
   "outputs": [],
   "source": [
    "mergedDf1 = pd.merge(dfRaceResults,dfStartingPos,on=['raceId','driverId'],how='outer')\n",
    "mergedDf2 = pd.merge(mergedDf1,dfFp1,on=['raceId','driverId'],how='inner')\n",
    "mergedDf3 = pd.merge(mergedDf2,dfFp2,on=['raceId','driverId'],how='inner')\n",
    "mergedDf4 = pd.merge(mergedDf3,dfFp3,on=['raceId','driverId'],how='inner')\n"
   ]
  },
  {
   "cell_type": "code",
   "execution_count": 106,
   "metadata": {},
   "outputs": [
    {
     "name": "stdout",
     "output_type": "stream",
     "text": [
      "       raceId  finishPos             driverId  startingPos\n",
      "0           1         15  birabongse-bhanudej          5.0\n",
      "1           1          6           bob-gerard         13.0\n",
      "2           1         11   brian-shawe-taylor          NaN\n",
      "3           1          7        cuth-harrison         15.0\n",
      "4           1          9      david-hampshire         16.0\n",
      "...       ...        ...                  ...          ...\n",
      "26766    1123          7        oscar-piastri          8.0\n",
      "26767    1123         20         pierre-gasly          3.0\n",
      "26768    1123         10         sergio-perez         15.0\n",
      "26769    1123         18      valtteri-bottas         19.0\n",
      "26770    1123          9         yuki-tsunoda          7.0\n",
      "\n",
      "[26771 rows x 4 columns]\n",
      "raceId            0\n",
      "finishPos         0\n",
      "driverId          0\n",
      "startingPos    1673\n",
      "dtype: int64\n"
     ]
    }
   ],
   "source": [
    "print(mergedDf1)\n",
    "print(mergedDf1.isnull().sum())"
   ]
  },
  {
   "cell_type": "code",
   "execution_count": null,
   "metadata": {},
   "outputs": [],
   "source": [
    "mergedDf5 = pd.merge(mergedDf4,dfDriver, on=['driverId'],how='inner')\n",
    "df = pd.merge(mergedDf5,dfRaces,on=['raceId'],how='inner')"
   ]
  },
  {
   "cell_type": "code",
   "execution_count": 95,
   "metadata": {},
   "outputs": [
    {
     "data": {
      "text/html": [
       "<div>\n",
       "<style scoped>\n",
       "    .dataframe tbody tr th:only-of-type {\n",
       "        vertical-align: middle;\n",
       "    }\n",
       "\n",
       "    .dataframe tbody tr th {\n",
       "        vertical-align: top;\n",
       "    }\n",
       "\n",
       "    .dataframe thead th {\n",
       "        text-align: right;\n",
       "    }\n",
       "</style>\n",
       "<table border=\"1\" class=\"dataframe\">\n",
       "  <thead>\n",
       "    <tr style=\"text-align: right;\">\n",
       "      <th></th>\n",
       "      <th>raceId</th>\n",
       "      <th>finishPos</th>\n",
       "      <th>driverId</th>\n",
       "      <th>startingPos</th>\n",
       "      <th>fp1Pos</th>\n",
       "      <th>fp2Pos</th>\n",
       "      <th>fp3Pos</th>\n",
       "      <th>name</th>\n",
       "      <th>totalPodiums</th>\n",
       "      <th>totalPolePositions</th>\n",
       "      <th>year</th>\n",
       "      <th>grandPrixId</th>\n",
       "    </tr>\n",
       "  </thead>\n",
       "  <tbody>\n",
       "    <tr>\n",
       "      <th>0</th>\n",
       "      <td>1.0</td>\n",
       "      <td>15.0</td>\n",
       "      <td>birabongse-bhanudej</td>\n",
       "      <td>5.0</td>\n",
       "      <td>NaN</td>\n",
       "      <td>NaN</td>\n",
       "      <td>NaN</td>\n",
       "      <td>Birabongse Bhanudej</td>\n",
       "      <td>0.0</td>\n",
       "      <td>0.0</td>\n",
       "      <td>1950.0</td>\n",
       "      <td>great-britain</td>\n",
       "    </tr>\n",
       "    <tr>\n",
       "      <th>1</th>\n",
       "      <td>1.0</td>\n",
       "      <td>6.0</td>\n",
       "      <td>bob-gerard</td>\n",
       "      <td>13.0</td>\n",
       "      <td>NaN</td>\n",
       "      <td>NaN</td>\n",
       "      <td>NaN</td>\n",
       "      <td>Bob Gerard</td>\n",
       "      <td>0.0</td>\n",
       "      <td>0.0</td>\n",
       "      <td>1950.0</td>\n",
       "      <td>great-britain</td>\n",
       "    </tr>\n",
       "    <tr>\n",
       "      <th>2</th>\n",
       "      <td>1.0</td>\n",
       "      <td>11.0</td>\n",
       "      <td>brian-shawe-taylor</td>\n",
       "      <td>NaN</td>\n",
       "      <td>NaN</td>\n",
       "      <td>NaN</td>\n",
       "      <td>NaN</td>\n",
       "      <td>Brian Shawe-Taylor</td>\n",
       "      <td>0.0</td>\n",
       "      <td>0.0</td>\n",
       "      <td>1950.0</td>\n",
       "      <td>great-britain</td>\n",
       "    </tr>\n",
       "    <tr>\n",
       "      <th>3</th>\n",
       "      <td>1.0</td>\n",
       "      <td>7.0</td>\n",
       "      <td>cuth-harrison</td>\n",
       "      <td>15.0</td>\n",
       "      <td>NaN</td>\n",
       "      <td>NaN</td>\n",
       "      <td>NaN</td>\n",
       "      <td>Cuth Harrison</td>\n",
       "      <td>0.0</td>\n",
       "      <td>0.0</td>\n",
       "      <td>1950.0</td>\n",
       "      <td>great-britain</td>\n",
       "    </tr>\n",
       "    <tr>\n",
       "      <th>4</th>\n",
       "      <td>1.0</td>\n",
       "      <td>9.0</td>\n",
       "      <td>david-hampshire</td>\n",
       "      <td>16.0</td>\n",
       "      <td>NaN</td>\n",
       "      <td>NaN</td>\n",
       "      <td>NaN</td>\n",
       "      <td>David Hampshire</td>\n",
       "      <td>0.0</td>\n",
       "      <td>0.0</td>\n",
       "      <td>1950.0</td>\n",
       "      <td>great-britain</td>\n",
       "    </tr>\n",
       "    <tr>\n",
       "      <th>...</th>\n",
       "      <td>...</td>\n",
       "      <td>...</td>\n",
       "      <td>...</td>\n",
       "      <td>...</td>\n",
       "      <td>...</td>\n",
       "      <td>...</td>\n",
       "      <td>...</td>\n",
       "      <td>...</td>\n",
       "      <td>...</td>\n",
       "      <td>...</td>\n",
       "      <td>...</td>\n",
       "      <td>...</td>\n",
       "    </tr>\n",
       "    <tr>\n",
       "      <th>27414</th>\n",
       "      <td>1124.0</td>\n",
       "      <td>NaN</td>\n",
       "      <td>NaN</td>\n",
       "      <td>NaN</td>\n",
       "      <td>NaN</td>\n",
       "      <td>NaN</td>\n",
       "      <td>NaN</td>\n",
       "      <td>NaN</td>\n",
       "      <td>NaN</td>\n",
       "      <td>NaN</td>\n",
       "      <td>2024.0</td>\n",
       "      <td>qatar</td>\n",
       "    </tr>\n",
       "    <tr>\n",
       "      <th>27415</th>\n",
       "      <td>1125.0</td>\n",
       "      <td>NaN</td>\n",
       "      <td>NaN</td>\n",
       "      <td>NaN</td>\n",
       "      <td>NaN</td>\n",
       "      <td>NaN</td>\n",
       "      <td>NaN</td>\n",
       "      <td>NaN</td>\n",
       "      <td>NaN</td>\n",
       "      <td>NaN</td>\n",
       "      <td>2024.0</td>\n",
       "      <td>abu-dhabi</td>\n",
       "    </tr>\n",
       "    <tr>\n",
       "      <th>27416</th>\n",
       "      <td>NaN</td>\n",
       "      <td>NaN</td>\n",
       "      <td>christophe-bouchut</td>\n",
       "      <td>NaN</td>\n",
       "      <td>NaN</td>\n",
       "      <td>NaN</td>\n",
       "      <td>NaN</td>\n",
       "      <td>Christophe Bouchut</td>\n",
       "      <td>0.0</td>\n",
       "      <td>0.0</td>\n",
       "      <td>NaN</td>\n",
       "      <td>NaN</td>\n",
       "    </tr>\n",
       "    <tr>\n",
       "      <th>27417</th>\n",
       "      <td>NaN</td>\n",
       "      <td>NaN</td>\n",
       "      <td>matteo-bobbi</td>\n",
       "      <td>NaN</td>\n",
       "      <td>NaN</td>\n",
       "      <td>NaN</td>\n",
       "      <td>NaN</td>\n",
       "      <td>Matteo Bobbi</td>\n",
       "      <td>0.0</td>\n",
       "      <td>0.0</td>\n",
       "      <td>NaN</td>\n",
       "      <td>NaN</td>\n",
       "    </tr>\n",
       "    <tr>\n",
       "      <th>27418</th>\n",
       "      <td>NaN</td>\n",
       "      <td>NaN</td>\n",
       "      <td>satoshi-motoyama</td>\n",
       "      <td>NaN</td>\n",
       "      <td>NaN</td>\n",
       "      <td>NaN</td>\n",
       "      <td>NaN</td>\n",
       "      <td>Satoshi Motoyama</td>\n",
       "      <td>0.0</td>\n",
       "      <td>0.0</td>\n",
       "      <td>NaN</td>\n",
       "      <td>NaN</td>\n",
       "    </tr>\n",
       "  </tbody>\n",
       "</table>\n",
       "<p>27419 rows × 12 columns</p>\n",
       "</div>"
      ],
      "text/plain": [
       "       raceId  finishPos             driverId  startingPos  fp1Pos  fp2Pos  \\\n",
       "0         1.0       15.0  birabongse-bhanudej          5.0     NaN     NaN   \n",
       "1         1.0        6.0           bob-gerard         13.0     NaN     NaN   \n",
       "2         1.0       11.0   brian-shawe-taylor          NaN     NaN     NaN   \n",
       "3         1.0        7.0        cuth-harrison         15.0     NaN     NaN   \n",
       "4         1.0        9.0      david-hampshire         16.0     NaN     NaN   \n",
       "...       ...        ...                  ...          ...     ...     ...   \n",
       "27414  1124.0        NaN                  NaN          NaN     NaN     NaN   \n",
       "27415  1125.0        NaN                  NaN          NaN     NaN     NaN   \n",
       "27416     NaN        NaN   christophe-bouchut          NaN     NaN     NaN   \n",
       "27417     NaN        NaN         matteo-bobbi          NaN     NaN     NaN   \n",
       "27418     NaN        NaN     satoshi-motoyama          NaN     NaN     NaN   \n",
       "\n",
       "       fp3Pos                 name  totalPodiums  totalPolePositions    year  \\\n",
       "0         NaN  Birabongse Bhanudej           0.0                 0.0  1950.0   \n",
       "1         NaN           Bob Gerard           0.0                 0.0  1950.0   \n",
       "2         NaN   Brian Shawe-Taylor           0.0                 0.0  1950.0   \n",
       "3         NaN        Cuth Harrison           0.0                 0.0  1950.0   \n",
       "4         NaN      David Hampshire           0.0                 0.0  1950.0   \n",
       "...       ...                  ...           ...                 ...     ...   \n",
       "27414     NaN                  NaN           NaN                 NaN  2024.0   \n",
       "27415     NaN                  NaN           NaN                 NaN  2024.0   \n",
       "27416     NaN   Christophe Bouchut           0.0                 0.0     NaN   \n",
       "27417     NaN         Matteo Bobbi           0.0                 0.0     NaN   \n",
       "27418     NaN     Satoshi Motoyama           0.0                 0.0     NaN   \n",
       "\n",
       "         grandPrixId  \n",
       "0      great-britain  \n",
       "1      great-britain  \n",
       "2      great-britain  \n",
       "3      great-britain  \n",
       "4      great-britain  \n",
       "...              ...  \n",
       "27414          qatar  \n",
       "27415      abu-dhabi  \n",
       "27416            NaN  \n",
       "27417            NaN  \n",
       "27418            NaN  \n",
       "\n",
       "[27419 rows x 12 columns]"
      ]
     },
     "execution_count": 95,
     "metadata": {},
     "output_type": "execute_result"
    }
   ],
   "source": [
    "df"
   ]
  },
  {
   "cell_type": "code",
   "execution_count": 96,
   "metadata": {},
   "outputs": [
    {
     "data": {
      "text/plain": [
       "raceId                    3\n",
       "finishPos               648\n",
       "driverId                  2\n",
       "startingPos            2321\n",
       "fp1Pos                12103\n",
       "fp2Pos                12440\n",
       "fp3Pos                19129\n",
       "name                      2\n",
       "totalPodiums              2\n",
       "totalPolePositions        2\n",
       "year                      3\n",
       "grandPrixId               3\n",
       "dtype: int64"
      ]
     },
     "execution_count": 96,
     "metadata": {},
     "output_type": "execute_result"
    }
   ],
   "source": [
    "df.isnull().sum()"
   ]
  },
  {
   "cell_type": "code",
   "execution_count": 80,
   "metadata": {},
   "outputs": [
    {
     "data": {
      "text/html": [
       "<div>\n",
       "<style scoped>\n",
       "    .dataframe tbody tr th:only-of-type {\n",
       "        vertical-align: middle;\n",
       "    }\n",
       "\n",
       "    .dataframe tbody tr th {\n",
       "        vertical-align: top;\n",
       "    }\n",
       "\n",
       "    .dataframe thead th {\n",
       "        text-align: right;\n",
       "    }\n",
       "</style>\n",
       "<table border=\"1\" class=\"dataframe\">\n",
       "  <thead>\n",
       "    <tr style=\"text-align: right;\">\n",
       "      <th></th>\n",
       "      <th>raceId</th>\n",
       "      <th>finishPos</th>\n",
       "      <th>startingPos</th>\n",
       "      <th>fp1Pos</th>\n",
       "      <th>fp2Pos</th>\n",
       "      <th>fp3Pos</th>\n",
       "      <th>totalPodiums</th>\n",
       "      <th>totalPolePositions</th>\n",
       "      <th>year</th>\n",
       "    </tr>\n",
       "  </thead>\n",
       "  <tbody>\n",
       "    <tr>\n",
       "      <th>count</th>\n",
       "      <td>7697.000000</td>\n",
       "      <td>7697.000000</td>\n",
       "      <td>7697.000000</td>\n",
       "      <td>7697.000000</td>\n",
       "      <td>7697.000000</td>\n",
       "      <td>7697.000000</td>\n",
       "      <td>7697.000000</td>\n",
       "      <td>7697.000000</td>\n",
       "      <td>7697.000000</td>\n",
       "    </tr>\n",
       "    <tr>\n",
       "      <th>mean</th>\n",
       "      <td>903.377290</td>\n",
       "      <td>10.938418</td>\n",
       "      <td>10.921268</td>\n",
       "      <td>11.150838</td>\n",
       "      <td>11.172535</td>\n",
       "      <td>10.884371</td>\n",
       "      <td>41.232818</td>\n",
       "      <td>14.053917</td>\n",
       "      <td>2013.626998</td>\n",
       "    </tr>\n",
       "    <tr>\n",
       "      <th>std</th>\n",
       "      <td>115.859346</td>\n",
       "      <td>6.149967</td>\n",
       "      <td>6.147616</td>\n",
       "      <td>6.291947</td>\n",
       "      <td>6.343335</td>\n",
       "      <td>6.136517</td>\n",
       "      <td>52.492749</td>\n",
       "      <td>24.152250</td>\n",
       "      <td>5.986277</td>\n",
       "    </tr>\n",
       "    <tr>\n",
       "      <th>min</th>\n",
       "      <td>706.000000</td>\n",
       "      <td>1.000000</td>\n",
       "      <td>1.000000</td>\n",
       "      <td>1.000000</td>\n",
       "      <td>1.000000</td>\n",
       "      <td>1.000000</td>\n",
       "      <td>0.000000</td>\n",
       "      <td>0.000000</td>\n",
       "      <td>2003.000000</td>\n",
       "    </tr>\n",
       "    <tr>\n",
       "      <th>25%</th>\n",
       "      <td>806.000000</td>\n",
       "      <td>6.000000</td>\n",
       "      <td>6.000000</td>\n",
       "      <td>6.000000</td>\n",
       "      <td>6.000000</td>\n",
       "      <td>6.000000</td>\n",
       "      <td>1.000000</td>\n",
       "      <td>0.000000</td>\n",
       "      <td>2009.000000</td>\n",
       "    </tr>\n",
       "    <tr>\n",
       "      <th>50%</th>\n",
       "      <td>897.000000</td>\n",
       "      <td>11.000000</td>\n",
       "      <td>11.000000</td>\n",
       "      <td>11.000000</td>\n",
       "      <td>11.000000</td>\n",
       "      <td>11.000000</td>\n",
       "      <td>19.000000</td>\n",
       "      <td>3.000000</td>\n",
       "      <td>2013.000000</td>\n",
       "    </tr>\n",
       "    <tr>\n",
       "      <th>75%</th>\n",
       "      <td>999.000000</td>\n",
       "      <td>16.000000</td>\n",
       "      <td>16.000000</td>\n",
       "      <td>16.000000</td>\n",
       "      <td>16.000000</td>\n",
       "      <td>16.000000</td>\n",
       "      <td>62.000000</td>\n",
       "      <td>18.000000</td>\n",
       "      <td>2019.000000</td>\n",
       "    </tr>\n",
       "    <tr>\n",
       "      <th>max</th>\n",
       "      <td>1123.000000</td>\n",
       "      <td>24.000000</td>\n",
       "      <td>24.000000</td>\n",
       "      <td>28.000000</td>\n",
       "      <td>29.000000</td>\n",
       "      <td>24.000000</td>\n",
       "      <td>202.000000</td>\n",
       "      <td>104.000000</td>\n",
       "      <td>2024.000000</td>\n",
       "    </tr>\n",
       "  </tbody>\n",
       "</table>\n",
       "</div>"
      ],
      "text/plain": [
       "            raceId    finishPos  startingPos       fp1Pos       fp2Pos  \\\n",
       "count  7697.000000  7697.000000  7697.000000  7697.000000  7697.000000   \n",
       "mean    903.377290    10.938418    10.921268    11.150838    11.172535   \n",
       "std     115.859346     6.149967     6.147616     6.291947     6.343335   \n",
       "min     706.000000     1.000000     1.000000     1.000000     1.000000   \n",
       "25%     806.000000     6.000000     6.000000     6.000000     6.000000   \n",
       "50%     897.000000    11.000000    11.000000    11.000000    11.000000   \n",
       "75%     999.000000    16.000000    16.000000    16.000000    16.000000   \n",
       "max    1123.000000    24.000000    24.000000    28.000000    29.000000   \n",
       "\n",
       "            fp3Pos  totalPodiums  totalPolePositions         year  \n",
       "count  7697.000000   7697.000000         7697.000000  7697.000000  \n",
       "mean     10.884371     41.232818           14.053917  2013.626998  \n",
       "std       6.136517     52.492749           24.152250     5.986277  \n",
       "min       1.000000      0.000000            0.000000  2003.000000  \n",
       "25%       6.000000      1.000000            0.000000  2009.000000  \n",
       "50%      11.000000     19.000000            3.000000  2013.000000  \n",
       "75%      16.000000     62.000000           18.000000  2019.000000  \n",
       "max      24.000000    202.000000          104.000000  2024.000000  "
      ]
     },
     "execution_count": 80,
     "metadata": {},
     "output_type": "execute_result"
    }
   ],
   "source": [
    "df.describe()"
   ]
  },
  {
   "cell_type": "markdown",
   "metadata": {},
   "source": [
    "## Corr. Matrix"
   ]
  },
  {
   "cell_type": "code",
   "execution_count": 85,
   "metadata": {},
   "outputs": [
    {
     "data": {
      "text/plain": [
       "<Axes: >"
      ]
     },
     "execution_count": 85,
     "metadata": {},
     "output_type": "execute_result"
    },
    {
     "data": {
      "image/png": "[encoded data removed]",
      "text/plain": [
       "<Figure size 640x480 with 2 Axes>"
      ]
     },
     "metadata": {},
     "output_type": "display_data"
    }
   ],
   "source": [
    "corr_matrix =df[['startingPos','finishPos','fp1Pos','fp2Pos','fp3Pos']].corr()\n",
    "sns.heatmap(corr_matrix,annot = True, cmap='coolwarm')"
   ]
  },
  {
   "cell_type": "markdown",
   "metadata": {},
   "source": [
    "## Model Training"
   ]
  },
  {
   "cell_type": "code",
   "execution_count": null,
   "metadata": {},
   "outputs": [],
   "source": []
  }
 ],
 "metadata": {
  "kernelspec": {
   "display_name": "base",
   "language": "python",
   "name": "python3"
  },
  "language_info": {
   "codemirror_mode": {
    "name": "ipython",
    "version": 3
   },
   "file_extension": ".py",
   "mimetype": "text/x-python",
   "name": "python",
   "nbconvert_exporter": "python",
   "pygments_lexer": "ipython3",
   "version": "3.12.4"
  },
  "polyglot_notebook": {
   "kernelInfo": {
    "defaultKernelName": "csharp",
    "items": [
     {
      "aliases": [],
      "languageName": "csharp",
      "name": "csharp"
     }
    ]
   }
  }
 },
 "nbformat": 4,
 "nbformat_minor": 2
}
